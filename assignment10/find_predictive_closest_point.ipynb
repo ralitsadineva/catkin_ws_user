{
 "cells": [
  {
   "cell_type": "code",
   "execution_count": 27,
   "metadata": {},
   "outputs": [],
   "source": [
    "import numpy as np\n",
    "import math\n",
    "from math import sqrt\n",
    "from sympy import symbols, solve, Eq\n",
    "from scipy.optimize import fsolve"
   ]
  },
  {
   "cell_type": "markdown",
   "metadata": {},
   "source": [
    "(x−a)2+(y−b)−D2=(x−d)2+(y−e)2−r2\n",
    "D = distance\n",
    "r = radius\n",
    "a,b = center point = 184, 215"
   ]
  },
  {
   "cell_type": "code",
   "execution_count": 3,
   "metadata": {},
   "outputs": [],
   "source": [
    "center_x = 1.84\n",
    "center_y = 2.15\n",
    "center_x_new = 1.30 #this is x of the closest point\n",
    "center_y_new = 3.55 #this is y of closest point\n",
    "distance = 0.5\n",
    "radius = 1.36"
   ]
  },
  {
   "cell_type": "code",
   "execution_count": 4,
   "metadata": {},
   "outputs": [
    {
     "data": {
      "text/plain": [
       "[(0.958022991321623, 3.18523743950977), (1.79834581308413, 3.50936195647531)]"
      ]
     },
     "execution_count": 4,
     "metadata": {},
     "output_type": "execute_result"
    }
   ],
   "source": [
    "x, y = symbols('x y')\n",
    "eq1 = Eq(((x-center_x_new)**2)+((y-center_y_new)**2)-(distance**2))\n",
    "eq2 = Eq(((x-center_x)**2)+((y-center_y)**2)-(radius**2))\n",
    "sol = solve((eq1, eq2),(x, y))\n",
    "sol\n"
   ]
  },
  {
   "cell_type": "code",
   "execution_count": 5,
   "metadata": {},
   "outputs": [],
   "source": [
    "def getClosestPoint(x, y, laneID, distance):\n",
    "    if laneID == 1:\n",
    "        radius = 1.36\n",
    "        \n",
    "        return find_next_point(x, y, distance, radius, laneID)\n",
    "        \n",
    "    elif laneID == 2:\n",
    "        radius = 1.68\n",
    "        return find_next_point(x, y, distance, radius, laneID)\n",
    "    \n",
    "    else: \n",
    "        radius = 1.20\n",
    "        return find_next_point(x, y, distance, radius, laneID)\n",
    "    "
   ]
  },
  {
   "cell_type": "code",
   "execution_count": 15,
   "metadata": {},
   "outputs": [],
   "source": [
    "def find_next_point(x, y, distance, radius, laneID):\n",
    "    center_x = 1.84\n",
    "    center_y = 2.15\n",
    "    if x >= center_x and x <= 4.16:\n",
    "        if y < center_y:\n",
    "            if laneID == 1:\n",
    "                point = (x+distance, 0.79)\n",
    "            elif laneID == 2:\n",
    "                point = (x+distance, 0.47)\n",
    "            else:\n",
    "                point = (x+distance, 0.95)\n",
    "        else:\n",
    "            if laneID == 1:\n",
    "                point = (x-distance, 3.51)\n",
    "            elif laneID == 2:\n",
    "                point = (x-distance, 3.83)\n",
    "            else:\n",
    "                point = (x-distance, 3.35)\n",
    "    else:\n",
    "        if x < center_x:\n",
    "            new_x = center_x + radius * ((x-center_x)/float(sqrt(((x-center_x)**2) + ((y-center_y)**2))))\n",
    "            new_y = center_y + radius * ((y-center_y)/float(sqrt(((x-center_x)**2) + ((y-center_y)**2))))\n",
    "            point = solve_equation(new_x, new_y, center_x, center_y, radius, 1)\n",
    "            #print(point)\n",
    "            \n",
    "        else:\n",
    "            center_x_two = 4.16\n",
    "            new_x = center_x_two + radius * ((x-center_x_two)/float(sqrt(((x-center_x_two)**2) + ((y-center_y)**2))))\n",
    "            new_y = center_y + radius * ((y-center_y)/float(sqrt(((x-center_x_two)**2) + ((y-center_y)**2))))\n",
    "            point = solve_equation(new_x, new_y, center_x_two, center_y, radius, 2)\n",
    "    return point"
   ]
  },
  {
   "cell_type": "code",
   "execution_count": 7,
   "metadata": {},
   "outputs": [],
   "source": [
    "def solve_equation(new_x, new_y, center_x, center_y, radius, semicircle):\n",
    "    x, y = symbols('x y')\n",
    "    eq1 = Eq(((x-new_x)**2)+((y-new_y)**2)-(distance**2))\n",
    "    eq2 = Eq(((x-center_x)**2)+((y-center_y)**2)-(radius**2))\n",
    "    prediction = solve((eq1, eq2),(x, y))\n",
    "    #print(prediction)\n",
    "    answer = 0\n",
    "    distances = []\n",
    "    answers = []\n",
    "    if semicircle == 1:     \n",
    "        for point in prediction:\n",
    "            #print(point)\n",
    "            if (float(str(point[0]))<center_x and float(str(point[1]))< new_y):\n",
    "                point_x = float(str(point[0]))\n",
    "                point_y = float(str(point[1]))\n",
    "                answers.append((point_x, point_y))\n",
    "                c_P = find_nearest_point(point_x, point_y)\n",
    "                d = find_distance(point_x, point_y, c_P)\n",
    "                distances.append(d)                        \n",
    "    else:\n",
    "        for point in prediction:\n",
    "            if (float(str(point[0]))>center_x and float(str(point[1]))> new_y):\n",
    "                point_x = float(str(point[0]))\n",
    "                point_y = float(str(point[1]))\n",
    "                answers.append((point_x, point_y))\n",
    "                c_P = find_nearest_point(point_x, point_y)\n",
    "                d = find_distance(point_x, point_y, c_P)\n",
    "                distances.append(d)\n",
    "    #print(answers)\n",
    "    if len(distances) > 1:\n",
    "        if distances[0]<distances[1]:\n",
    "            return answers[0]\n",
    "        else:\n",
    "            return answers[1]\n",
    "    else:\n",
    "        return answers[0]\n",
    "   "
   ]
  },
  {
   "cell_type": "code",
   "execution_count": 43,
   "metadata": {},
   "outputs": [
    {
     "name": "stdout",
     "output_type": "stream",
     "text": [
      "(0.925099153466198, 3.15625863524828)\n"
     ]
    }
   ],
   "source": [
    "print(getClosestPoint(1.30, 3.55, 1, 0.5)) #also correct"
   ]
  },
  {
   "cell_type": "code",
   "execution_count": 51,
   "metadata": {},
   "outputs": [
    {
     "name": "stdout",
     "output_type": "stream",
     "text": [
      "(1.29221923833746, 0.561813538292053)\n"
     ]
    }
   ],
   "source": [
    "print(getClosestPoint(1.0, 1.0, 2, 0.2)) "
   ]
  },
  {
   "cell_type": "code",
   "execution_count": 16,
   "metadata": {},
   "outputs": [
    {
     "name": "stdout",
     "output_type": "stream",
     "text": [
      "(3.5, 0.79)\n"
     ]
    }
   ],
   "source": [
    "print(getClosestPoint(3.0, 2.0, 1, 0.5)) #seems correct"
   ]
  },
  {
   "cell_type": "code",
   "execution_count": 206,
   "metadata": {},
   "outputs": [
    {
     "name": "stdout",
     "output_type": "stream",
     "text": [
      "(1.5, 3.51)\n"
     ]
    }
   ],
   "source": [
    "print(getClosestPoint(2.0, 3.0, 1, 0.5)) #correct only goes into curve and car might not realize"
   ]
  },
  {
   "cell_type": "code",
   "execution_count": 10,
   "metadata": {},
   "outputs": [],
   "source": [
    "def find_nearest_point(x, y):\n",
    "    radius = 1.20\n",
    "    if x >= 1.84 and x <= 4.16:\n",
    "        if y < 2.15:\n",
    "            point = (x, 0.95)\n",
    "        else:\n",
    "            point = (x, 3.35)\n",
    "    else:\n",
    "        if x < 1.84:\n",
    "            new_x = 1.84 + radius * ((x-1.84)/float(sqrt(((x-1.84)**2) + ((y-2.15)**2))))\n",
    "            new_y = 2.15 + radius * ((y-2.15)/float(sqrt(((x-1.84)**2) + ((y-2.15)**2))))\n",
    "            point = (new_x, new_y)\n",
    "        else:\n",
    "            new_x = 4.16 + radius * ((x-4.16)/float(sqrt(((x-4.16)**2) + ((y-2.15)**2))))\n",
    "            new_y = 2.15 + radius * ((y-2.15)/float(sqrt(((x-4.16)**2) + ((y-2.15)**2))))\n",
    "            point = (new_x, new_y)\n",
    "    return point"
   ]
  },
  {
   "cell_type": "code",
   "execution_count": 11,
   "metadata": {},
   "outputs": [],
   "source": [
    "def find_distance(x, y, point_on_track):\n",
    "    distance = (sqrt(((point_on_track[0]-x)**2) + ((point_on_track[1]-y)**2)))\n",
    "    return distance"
   ]
  },
  {
   "cell_type": "code",
   "execution_count": 21,
   "metadata": {},
   "outputs": [],
   "source": [
    "def dotproduct(v1, v2):\n",
    "    #dprint(sum((a*b) for a, b in zip(v1, v2)))\n",
    "    return sum((a*b) for a, b in zip(v1, v2))\n",
    "\n",
    "def length(v):\n",
    "    #print(math.sqrt(dotproduct(v, v)))\n",
    "    return math.sqrt(dotproduct(v, v))\n",
    "\n",
    "def angle(v1, v2):\n",
    "    return math.acos(dotproduct(v1, v2) / (length(v1) * length(v2)))"
   ]
  },
  {
   "cell_type": "code",
   "execution_count": 48,
   "metadata": {},
   "outputs": [
    {
     "name": "stdout",
     "output_type": "stream",
     "text": [
      "0.49920560384505414\n",
      "0.9989879787963826\n",
      "0.9994938613100045\n",
      "0.9989879787963826\n",
      "0.2500056071729948\n",
      "0.5000056071415547\n",
      "0.2500056071729948\n"
     ]
    },
    {
     "data": {
      "text/plain": [
       "0.04678896362775624"
      ]
     },
     "execution_count": 48,
     "metadata": {},
     "output_type": "execute_result"
    }
   ],
   "source": [
    "#v1 = [2.7036482, 3.57692529]\n",
    "v1 = [-0.998167423, 0.05147596]\n",
    "v2 = [-0.5, 0.002367947]\n",
    "angle(v1,v2)"
   ]
  },
  {
   "cell_type": "code",
   "execution_count": 33,
   "metadata": {},
   "outputs": [
    {
     "name": "stdout",
     "output_type": "stream",
     "text": [
      "-0.9981037720951457\n",
      "0.06155371742991315\n"
     ]
    }
   ],
   "source": [
    "yaw = 3.08\n",
    "pitch = -0.0\n",
    "print(math.cos(yaw)*math.cos(pitch))\n",
    "print(math.sin(yaw)*math.cos(pitch))\n"
   ]
  }
 ],
 "metadata": {
  "kernelspec": {
   "display_name": "Python 3",
   "language": "python",
   "name": "python3"
  },
  "language_info": {
   "codemirror_mode": {
    "name": "ipython",
    "version": 3
   },
   "file_extension": ".py",
   "mimetype": "text/x-python",
   "name": "python",
   "nbconvert_exporter": "python",
   "pygments_lexer": "ipython3",
   "version": "3.6.3"
  }
 },
 "nbformat": 4,
 "nbformat_minor": 2
}
